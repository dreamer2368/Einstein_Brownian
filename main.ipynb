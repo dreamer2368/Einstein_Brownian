{
 "cells": [
  {
   "cell_type": "code",
   "execution_count": 1,
   "metadata": {
    "collapsed": false
   },
   "outputs": [],
   "source": [
    "%matplotlib inline\n",
    "\n",
    "import importlib\n",
    "import numpy as np\n",
    "import scipy as sp\n",
    "import matplotlib.pyplot as plt\n",
    "from mpl_toolkits.mplot3d import Axes3D\n",
    "from Brownian import *"
   ]
  },
  {
   "cell_type": "code",
   "execution_count": 2,
   "metadata": {
    "collapsed": false
   },
   "outputs": [],
   "source": [
    "N = 10000\n",
    "l = 0.1\n",
    "dt = 0.1\n",
    "Nt = 100\n",
    "test = Brownian(N,l,dt)\n",
    "testInt = TimeIntegrator(test,Nt)\n",
    "testQoI = QoI(testInt)"
   ]
  },
  {
   "cell_type": "code",
   "execution_count": 3,
   "metadata": {
    "collapsed": false
   },
   "outputs": [
    {
     "data": {
      "text/plain": [
       "[<matplotlib.lines.Line2D at 0x106c4d550>]"
      ]
     },
     "execution_count": 3,
     "metadata": {},
     "output_type": "execute_result"
    },
    {
     "data": {
      "image/png": "[encoded data removed]",
      "text/plain": [
       "<matplotlib.figure.Figure at 0x103ae0e90>"
      ]
     },
     "metadata": {},
     "output_type": "display_data"
    }
   ],
   "source": [
    "plt.plot(test.x,test.y,'.')"
   ]
  },
  {
   "cell_type": "code",
   "execution_count": 4,
   "metadata": {
    "collapsed": false
   },
   "outputs": [
    {
     "data": {
      "text/plain": [
       "(array([[ 0.,  0.,  0., ...,  0.,  0.,  0.],\n",
       "        [ 0.,  0.,  0., ...,  0.,  0.,  0.],\n",
       "        [ 0.,  0.,  0., ...,  0.,  0.,  0.],\n",
       "        ..., \n",
       "        [ 0.,  0.,  0., ...,  0.,  0.,  0.],\n",
       "        [ 0.,  0.,  0., ...,  0.,  0.,  0.],\n",
       "        [ 0.,  0.,  0., ...,  0.,  0.,  0.]]),\n",
       " array([-0.5 , -0.48, -0.46, -0.44, -0.42, -0.4 , -0.38, -0.36, -0.34,\n",
       "        -0.32, -0.3 , -0.28, -0.26, -0.24, -0.22, -0.2 , -0.18, -0.16,\n",
       "        -0.14, -0.12, -0.1 , -0.08, -0.06, -0.04, -0.02,  0.  ,  0.02,\n",
       "         0.04,  0.06,  0.08,  0.1 ,  0.12,  0.14,  0.16,  0.18,  0.2 ,\n",
       "         0.22,  0.24,  0.26,  0.28,  0.3 ,  0.32,  0.34,  0.36,  0.38,\n",
       "         0.4 ,  0.42,  0.44,  0.46,  0.48,  0.5 ]),\n",
       " array([-0.5 , -0.48, -0.46, -0.44, -0.42, -0.4 , -0.38, -0.36, -0.34,\n",
       "        -0.32, -0.3 , -0.28, -0.26, -0.24, -0.22, -0.2 , -0.18, -0.16,\n",
       "        -0.14, -0.12, -0.1 , -0.08, -0.06, -0.04, -0.02,  0.  ,  0.02,\n",
       "         0.04,  0.06,  0.08,  0.1 ,  0.12,  0.14,  0.16,  0.18,  0.2 ,\n",
       "         0.22,  0.24,  0.26,  0.28,  0.3 ,  0.32,  0.34,  0.36,  0.38,\n",
       "         0.4 ,  0.42,  0.44,  0.46,  0.48,  0.5 ]),\n",
       " <matplotlib.image.AxesImage at 0x106d7e750>)"
      ]
     },
     "execution_count": 4,
     "metadata": {},
     "output_type": "execute_result"
    },
    {
     "data": {
      "image/png": "[encoded data removed]",
      "text/plain": [
       "<matplotlib.figure.Figure at 0x106c4df50>"
      ]
     },
     "metadata": {},
     "output_type": "display_data"
    }
   ],
   "source": [
    "plt.hist2d(test.x,test.y,bins=50)"
   ]
  },
  {
   "cell_type": "code",
   "execution_count": 5,
   "metadata": {
    "collapsed": false
   },
   "outputs": [],
   "source": [
    "testInt.forward(test)"
   ]
  },
  {
   "cell_type": "code",
   "execution_count": 6,
   "metadata": {
    "collapsed": true
   },
   "outputs": [],
   "source": [
    "# fig = plt.figure()\n",
    "# ax = fig.add_subplot(111, projection='3d')\n",
    "# hist, xedges, yedges = np.histogram2d(test.x, test.y, bins=100)\n",
    "\n",
    "# elements = (len(xedges) - 1) * (len(yedges) - 1)\n",
    "# xpos, ypos = np.meshgrid(xedges[:-1] + 0.25, yedges[:-1] + 0.25)\n",
    "\n",
    "# xpos = xpos.flatten()\n",
    "# ypos = ypos.flatten()\n",
    "# zpos = np.zeros(elements)\n",
    "# dx = 0.5 * np.ones_like(zpos)\n",
    "# dy = dx.copy()\n",
    "# dz = hist.flatten()\n",
    "\n",
    "# ax.bar3d(xpos, ypos, zpos, dx, dy, dz, color='b', zsort='average')\n",
    "\n",
    "# plt.show()"
   ]
  },
  {
   "cell_type": "code",
   "execution_count": 7,
   "metadata": {
    "collapsed": false
   },
   "outputs": [
    {
     "data": {
      "image/png": "[encoded data removed]",
      "text/plain": [
       "<matplotlib.figure.Figure at 0x106d9f9d0>"
      ]
     },
     "metadata": {},
     "output_type": "display_data"
    }
   ],
   "source": [
    "plt.hist(np.sqrt(np.square(test.x)+np.square(test.y)),bins=70)\n",
    "plt.show()"
   ]
  },
  {
   "cell_type": "code",
   "execution_count": 8,
   "metadata": {
    "collapsed": false
   },
   "outputs": [
    {
     "name": "stdout",
     "output_type": "stream",
     "text": [
      "0.50499693445 0.5\n"
     ]
    }
   ],
   "source": [
    "testQoI.compute_J(testInt)\n",
    "J0 = testQoI.J\n",
    "D = l*l/4.0/dt\n",
    "print J0, 2*D*Nt*dt"
   ]
  },
  {
   "cell_type": "code",
   "execution_count": 9,
   "metadata": {
    "collapsed": false
   },
   "outputs": [
    {
     "data": {
      "text/plain": [
       "(array([ 209.,  216.,  191.,  184.,  196.,  188.,  216.,  203.,  219.,\n",
       "         199.,  181.,  186.,  205.,  202.,  197.,  210.,  188.,  222.,\n",
       "         195.,  192.,  200.,  212.,  227.,  192.,  223.,  201.,  208.,\n",
       "         204.,  194.,  184.,  205.,  206.,  184.,  186.,  211.,  206.,\n",
       "         187.,  212.,  182.,  187.,  208.,  197.,  194.,  189.,  204.,\n",
       "         191.,  187.,  202.,  219.,  199.]),\n",
       " array([  1.81732692e-04,   1.25806407e-01,   2.51431081e-01,\n",
       "          3.77055756e-01,   5.02680430e-01,   6.28305104e-01,\n",
       "          7.53929779e-01,   8.79554453e-01,   1.00517913e+00,\n",
       "          1.13080380e+00,   1.25642848e+00,   1.38205315e+00,\n",
       "          1.50767782e+00,   1.63330250e+00,   1.75892717e+00,\n",
       "          1.88455185e+00,   2.01017652e+00,   2.13580120e+00,\n",
       "          2.26142587e+00,   2.38705054e+00,   2.51267522e+00,\n",
       "          2.63829989e+00,   2.76392457e+00,   2.88954924e+00,\n",
       "          3.01517392e+00,   3.14079859e+00,   3.26642326e+00,\n",
       "          3.39204794e+00,   3.51767261e+00,   3.64329729e+00,\n",
       "          3.76892196e+00,   3.89454664e+00,   4.02017131e+00,\n",
       "          4.14579598e+00,   4.27142066e+00,   4.39704533e+00,\n",
       "          4.52267001e+00,   4.64829468e+00,   4.77391936e+00,\n",
       "          4.89954403e+00,   5.02516871e+00,   5.15079338e+00,\n",
       "          5.27641805e+00,   5.40204273e+00,   5.52766740e+00,\n",
       "          5.65329208e+00,   5.77891675e+00,   5.90454143e+00,\n",
       "          6.03016610e+00,   6.15579077e+00,   6.28141545e+00]),\n",
       " <a list of 50 Patch objects>)"
      ]
     },
     "execution_count": 9,
     "metadata": {},
     "output_type": "execute_result"
    },
    {
     "data": {
      "image/png": "[encoded data removed]",
      "text/plain": [
       "<matplotlib.figure.Figure at 0x106e16b50>"
      ]
     },
     "metadata": {},
     "output_type": "display_data"
    }
   ],
   "source": [
    "plt.hist(testInt.theta[10,:],bins=50)"
   ]
  },
  {
   "cell_type": "code",
   "execution_count": 10,
   "metadata": {
    "collapsed": false
   },
   "outputs": [],
   "source": [
    "testAdj = AdjBrownian(test)\n",
    "testInt.backward(testAdj,testQoI)"
   ]
  },
  {
   "cell_type": "code",
   "execution_count": 11,
   "metadata": {
    "collapsed": false
   },
   "outputs": [
    {
     "name": "stdout",
     "output_type": "stream",
     "text": [
      "10.099938689\n"
     ]
    }
   ],
   "source": [
    "print testQoI.dJdA"
   ]
  },
  {
   "cell_type": "code",
   "execution_count": 12,
   "metadata": {
    "collapsed": false
   },
   "outputs": [
    {
     "data": {
      "text/plain": [
       "[<matplotlib.lines.Line2D at 0x108a529d0>]"
      ]
     },
     "execution_count": 12,
     "metadata": {},
     "output_type": "execute_result"
    },
    {
     "data": {
      "image/png": "[encoded data removed]",
      "text/plain": [
       "<matplotlib.figure.Figure at 0x108a87550>"
      ]
     },
     "metadata": {},
     "output_type": "display_data"
    }
   ],
   "source": [
    "fk = np.linspace(-10.0,0.0,11)\n",
    "fk = 10.0**fk\n",
    "ek = np.zeros(11,dtype=np.double)\n",
    "for i in range( len(fk) ):\n",
    "    dl=fk[i]*l\n",
    "    test = Brownian(N,l+dl,dt)\n",
    "    testInt = TimeIntegrator(test,Nt)\n",
    "    testInt.forward(test)\n",
    "    testQoI.compute_J(testInt)\n",
    "    J1 = testQoI.J\n",
    "    ek[i] = abs( ((J1-J0)/dl - testQoI.dJdA)/testQoI.dJdA )\n",
    "plt.loglog(fk,ek)"
   ]
  },
  {
   "cell_type": "code",
   "execution_count": 13,
   "metadata": {
    "collapsed": false
   },
   "outputs": [
    {
     "data": {
      "text/plain": [
       "10.0"
      ]
     },
     "execution_count": 13,
     "metadata": {},
     "output_type": "execute_result"
    }
   ],
   "source": [
    "Nt*l"
   ]
  }
 ],
 "metadata": {
  "kernelspec": {
   "display_name": "Python 2",
   "language": "python",
   "name": "python2"
  },
  "language_info": {
   "codemirror_mode": {
    "name": "ipython",
    "version": 2
   },
   "file_extension": ".py",
   "mimetype": "text/x-python",
   "name": "python",
   "nbconvert_exporter": "python",
   "pygments_lexer": "ipython2",
   "version": "2.7.11"
  }
 },
 "nbformat": 4,
 "nbformat_minor": 0
}
